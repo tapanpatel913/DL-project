{
  "cells": [
    {
      "cell_type": "markdown",
      "metadata": {
        "id": "m_fJdbgnxDTr"
      },
      "source": [
        "# Speech Emotion Recognition Using RNN"
      ]
    },
    {
      "cell_type": "code",
      "execution_count": null,
      "metadata": {
        "colab": {
          "base_uri": "https://localhost:8080/"
        },
        "id": "txncAyqvzKLX",
        "outputId": "2f74312f-fab0-42b8-b2ab-3e9796cc53f4"
      },
      "outputs": [
        {
          "output_type": "stream",
          "name": "stdout",
          "text": [
            "Mounted at /content/drive\n"
          ]
        }
      ],
      "source": [
        "from google.colab import drive\n",
        "import os\n",
        "import librosa\n",
        "import numpy as np\n",
        "from sklearn.model_selection import train_test_split\n",
        "\n",
        "# Mount Google Drive\n",
        "drive.mount('/content/drive')\n",
        "\n",
        "# Directory containing audio files in Google Drive\n",
        "data_dir = '/content/drive/MyDrive/TESS Toronto emotional speech set data'\n",
        "\n",
        "# Function to extract features from audio files\n",
        "def extract_features(file_path, mfcc=True, chroma=True, mel=True):\n",
        "    try:\n",
        "        # Load audio file\n",
        "        y, sr = librosa.load(file_path, sr=None)\n",
        "        # Extract features\n",
        "        features = []\n",
        "        if mfcc:\n",
        "            mfccs = np.mean(librosa.feature.mfcc(y=y, sr=sr, n_mfcc=13).T, axis=0)\n",
        "            features.extend(mfccs)\n",
        "        if chroma:\n",
        "            chroma = np.mean(librosa.feature.chroma_stft(y=y, sr=sr).T, axis=0)\n",
        "            features.extend(chroma)\n",
        "        if mel:\n",
        "            mel = np.mean(librosa.feature.melspectrogram(y=y, sr=sr).T, axis=0)\n",
        "            features.extend(mel)\n",
        "        return features\n",
        "    except Exception as e:\n",
        "        print(\"Error encountered while processing {}: {}\".format(file_path, e))\n",
        "        return None\n",
        "\n",
        "# Lists to store features and labels\n",
        "features = []\n",
        "labels = []\n",
        "\n",
        "# Loop through audio files and extract features\n",
        "for root, dirs, files in os.walk(data_dir):\n",
        "    for file in files:\n",
        "        if file.endswith('.wav'):  # Assuming the audio files are in WAV format\n",
        "            file_path = os.path.join(root, file)\n",
        "            emotion_label = root.split('/')[-1]  # Assuming emotion labels are folder names\n",
        "            extracted_features = extract_features(file_path)\n",
        "            if extracted_features is not None:\n",
        "                features.append(extracted_features)\n",
        "                labels.append(emotion_label)\n",
        "\n",
        "# Convert lists to NumPy arrays\n",
        "X = np.array(features)\n",
        "y = np.array(labels)\n",
        "\n",
        "# Split the data into training and testing sets (e.g., 80% training, 20% testing)\n",
        "X_train, X_test, y_train, y_test = train_test_split(X, y, test_size=0.2, random_state=42)\n",
        "\n",
        "# Now, X_train and y_train contain the training features and labels,\n",
        "# and X_test and y_test contain the testing features and labels, respectively."
      ]
    },
    {
      "cell_type": "markdown",
      "metadata": {
        "id": "ebmg4TMRs_N2"
      },
      "source": [
        "# Preprocessing Data for RNN input"
      ]
    },
    {
      "cell_type": "code",
      "execution_count": null,
      "metadata": {
        "id": "94M1yrRJtD4_"
      },
      "outputs": [],
      "source": [
        "from sklearn.preprocessing import LabelEncoder\n",
        "from keras.utils import to_categorical\n",
        "\n",
        "# Encode labels to numerical values\n",
        "label_encoder = LabelEncoder()\n",
        "y_train_encoded = label_encoder.fit_transform(y_train)\n",
        "y_test_encoded = label_encoder.transform(y_test)\n",
        "\n",
        "# Convert labels to one-hot encoding\n",
        "y_train_categorical = to_categorical(y_train_encoded)\n",
        "y_test_categorical = to_categorical(y_test_encoded)\n",
        "\n",
        "\n",
        "# Reshape features for LSTM input (assuming each feature vector is a time step)\n",
        "X_train_lstm = X_train.reshape(X_train.shape[0], 1, X_train.shape[1])\n",
        "X_test_lstm = X_test.reshape(X_test.shape[0], 1, X_test.shape[1])\n"
      ]
    },
    {
      "cell_type": "code",
      "source": [
        "print(X_train_lstm.shape)"
      ],
      "metadata": {
        "colab": {
          "base_uri": "https://localhost:8080/"
        },
        "id": "9lCu-gtoIwuM",
        "outputId": "a5684f59-3ee4-48c8-a60b-9d9f5938f220"
      },
      "execution_count": null,
      "outputs": [
        {
          "output_type": "stream",
          "name": "stdout",
          "text": [
            "(2240, 1, 153)\n"
          ]
        }
      ]
    },
    {
      "cell_type": "markdown",
      "metadata": {
        "id": "u7G5BM7BtMFd"
      },
      "source": [
        "# build an RNN model using libraries like Keras"
      ]
    },
    {
      "cell_type": "code",
      "execution_count": null,
      "metadata": {
        "colab": {
          "base_uri": "https://localhost:8080/"
        },
        "id": "g_UByIEnmiRV",
        "outputId": "a1b95da0-59da-4d47-d9ba-4c0553de2bf1"
      },
      "outputs": [
        {
          "output_type": "stream",
          "name": "stderr",
          "text": [
            "WARNING:absl:`lr` is deprecated in Keras optimizer, please use `learning_rate` or use the legacy optimizer, e.g.,tf.keras.optimizers.legacy.Adam.\n"
          ]
        },
        {
          "output_type": "stream",
          "name": "stdout",
          "text": [
            "Epoch 1/50\n",
            "140/140 [==============================] - 15s 18ms/step - loss: 1.3373 - accuracy: 0.4835 - val_loss: 0.5904 - val_accuracy: 0.7714\n",
            "Epoch 2/50\n",
            "140/140 [==============================] - 1s 8ms/step - loss: 0.5603 - accuracy: 0.7879 - val_loss: 0.3700 - val_accuracy: 0.8571\n",
            "Epoch 3/50\n",
            "140/140 [==============================] - 1s 9ms/step - loss: 0.3287 - accuracy: 0.8799 - val_loss: 0.3315 - val_accuracy: 0.8786\n",
            "Epoch 4/50\n",
            "140/140 [==============================] - 1s 8ms/step - loss: 0.2892 - accuracy: 0.8964 - val_loss: 0.2094 - val_accuracy: 0.9250\n",
            "Epoch 5/50\n",
            "140/140 [==============================] - 1s 8ms/step - loss: 0.2287 - accuracy: 0.9183 - val_loss: 0.4536 - val_accuracy: 0.8643\n",
            "Epoch 6/50\n",
            "140/140 [==============================] - 1s 8ms/step - loss: 0.1984 - accuracy: 0.9272 - val_loss: 0.1409 - val_accuracy: 0.9500\n",
            "Epoch 7/50\n",
            "140/140 [==============================] - 1s 11ms/step - loss: 0.2043 - accuracy: 0.9210 - val_loss: 0.1383 - val_accuracy: 0.9554\n",
            "Epoch 8/50\n",
            "140/140 [==============================] - 2s 13ms/step - loss: 0.1699 - accuracy: 0.9433 - val_loss: 0.1301 - val_accuracy: 0.9589\n",
            "Epoch 9/50\n",
            "140/140 [==============================] - 2s 13ms/step - loss: 0.1619 - accuracy: 0.9429 - val_loss: 0.1517 - val_accuracy: 0.9464\n",
            "Epoch 10/50\n",
            "140/140 [==============================] - 1s 10ms/step - loss: 0.1328 - accuracy: 0.9496 - val_loss: 0.1083 - val_accuracy: 0.9732\n",
            "Epoch 11/50\n",
            "140/140 [==============================] - 1s 8ms/step - loss: 0.1217 - accuracy: 0.9563 - val_loss: 0.1008 - val_accuracy: 0.9679\n",
            "Epoch 12/50\n",
            "140/140 [==============================] - 1s 8ms/step - loss: 0.1125 - accuracy: 0.9612 - val_loss: 0.0907 - val_accuracy: 0.9768\n",
            "Epoch 13/50\n",
            "140/140 [==============================] - 1s 8ms/step - loss: 0.1216 - accuracy: 0.9554 - val_loss: 0.1271 - val_accuracy: 0.9589\n",
            "Epoch 14/50\n",
            "140/140 [==============================] - 1s 8ms/step - loss: 0.0943 - accuracy: 0.9728 - val_loss: 0.1097 - val_accuracy: 0.9679\n",
            "Epoch 15/50\n",
            "140/140 [==============================] - 1s 8ms/step - loss: 0.1283 - accuracy: 0.9580 - val_loss: 0.1087 - val_accuracy: 0.9714\n"
          ]
        }
      ],
      "source": [
        "from keras.models import Sequential\n",
        "from keras.layers import LSTM, Dense, Dropout, Bidirectional\n",
        "from keras.optimizers import Adam\n",
        "from keras.callbacks import EarlyStopping\n",
        "\n",
        "# Build a more complex LSTM model\n",
        "model = Sequential()\n",
        "\n",
        "# Add a Bidirectional LSTM layer with 128 units and dropout for regularization\n",
        "model.add(Bidirectional(LSTM(128, return_sequences=True), input_shape=(1, X_train.shape[1])))\n",
        "model.add(Dropout(0.2))\n",
        "\n",
        "# Add another Bidirectional LSTM layer with 64 units and dropout for regularization\n",
        "model.add(Bidirectional(LSTM(64)))\n",
        "model.add(Dropout(0.2))\n",
        "\n",
        "# Add a Dense layer with 64 units\n",
        "model.add(Dense(64, activation='relu'))\n",
        "model.add(Dropout(0.2))\n",
        "\n",
        "# Add the output layer with the number of classes (emotions) and softmax activation\n",
        "num_classes = len(label_encoder.classes_)\n",
        "model.add(Dense(num_classes, activation='softmax'))\n",
        "\n",
        "# Compile the model with Adam optimizer and categorical crossentropy loss function\n",
        "model.compile(optimizer=Adam(lr=0.001), loss='categorical_crossentropy', metrics=['accuracy'])\n",
        "\n",
        "# Implement early stopping to prevent overfitting\n",
        "early_stopping = EarlyStopping(monitor='val_loss', patience=3)\n",
        "\n",
        "# Train the model with a larger number of epochs and a smaller batch size\n",
        "history = model.fit(X_train_lstm, y_train_categorical,\n",
        "          epochs=50,\n",
        "          batch_size=16,\n",
        "          validation_data=(X_test_lstm, y_test_categorical), callbacks=[early_stopping])"
      ]
    },
    {
      "cell_type": "code",
      "source": [
        "model.summary()"
      ],
      "metadata": {
        "colab": {
          "base_uri": "https://localhost:8080/"
        },
        "id": "GWvUm7T7VH9c",
        "outputId": "0f7f639b-e3a8-4c57-aecd-d0489ce49225"
      },
      "execution_count": null,
      "outputs": [
        {
          "output_type": "stream",
          "name": "stdout",
          "text": [
            "Model: \"sequential\"\n",
            "_________________________________________________________________\n",
            " Layer (type)                Output Shape              Param #   \n",
            "=================================================================\n",
            " bidirectional (Bidirection  (None, 1, 256)            288768    \n",
            " al)                                                             \n",
            "                                                                 \n",
            " dropout (Dropout)           (None, 1, 256)            0         \n",
            "                                                                 \n",
            " bidirectional_1 (Bidirecti  (None, 128)               164352    \n",
            " onal)                                                           \n",
            "                                                                 \n",
            " dropout_1 (Dropout)         (None, 128)               0         \n",
            "                                                                 \n",
            " dense (Dense)               (None, 64)                8256      \n",
            "                                                                 \n",
            " dropout_2 (Dropout)         (None, 64)                0         \n",
            "                                                                 \n",
            " dense_1 (Dense)             (None, 7)                 455       \n",
            "                                                                 \n",
            "=================================================================\n",
            "Total params: 461831 (1.76 MB)\n",
            "Trainable params: 461831 (1.76 MB)\n",
            "Non-trainable params: 0 (0.00 Byte)\n",
            "_________________________________________________________________\n"
          ]
        }
      ]
    },
    {
      "cell_type": "code",
      "execution_count": null,
      "metadata": {
        "colab": {
          "base_uri": "https://localhost:8080/"
        },
        "id": "dIGkGFZeSfoq",
        "outputId": "5df595f7-f46f-4a9d-f7e4-5199b0916e36"
      },
      "outputs": [
        {
          "output_type": "execute_result",
          "data": {
            "text/plain": [
              "dict_keys(['loss', 'accuracy', 'val_loss', 'val_accuracy'])"
            ]
          },
          "metadata": {},
          "execution_count": 11
        }
      ],
      "source": [
        "history_dict = history.history\n",
        "history_dict.keys()"
      ]
    },
    {
      "cell_type": "code",
      "execution_count": null,
      "metadata": {
        "colab": {
          "base_uri": "https://localhost:8080/",
          "height": 489
        },
        "id": "Cub_Sh90TB_U",
        "outputId": "34cca910-62ed-418f-cb51-e3768b44bfdc"
      },
      "outputs": [
        {
          "output_type": "execute_result",
          "data": {
            "text/plain": [
              "<matplotlib.legend.Legend at 0x79f25818a6b0>"
            ]
          },
          "metadata": {},
          "execution_count": 12
        },
        {
          "output_type": "display_data",
          "data": {
            "text/plain": [
              "<Figure size 640x480 with 1 Axes>"
            ],
            "image/png": "[encoded data removed]"
          },
          "metadata": {}
        }
      ],
      "source": [
        "# Plotting training and validation loss\n",
        "import matplotlib.pyplot as plt\n",
        "history_dict = history.history\n",
        "loss_values = history_dict['loss']\n",
        "val_loss_values = history_dict['val_loss']\n",
        "acc = history_dict['accuracy']\n",
        "epochs = range(1, len(acc)+1)\n",
        "\n",
        "plt.plot(epochs, loss_values, 'bo', label='Training loss')\n",
        "plt.plot(epochs, val_loss_values, 'b', label='Validation loss')\n",
        "plt.title('Training and validation loss')\n",
        "plt.xlabel('Epochs')\n",
        "plt.ylabel('loss')\n",
        "plt.legend()"
      ]
    },
    {
      "cell_type": "code",
      "execution_count": null,
      "metadata": {
        "colab": {
          "base_uri": "https://localhost:8080/",
          "height": 472
        },
        "id": "YxBWRFhaVdNz",
        "outputId": "138d98db-cb63-42f1-dad1-6e1e3e761362"
      },
      "outputs": [
        {
          "output_type": "display_data",
          "data": {
            "text/plain": [
              "<Figure size 640x480 with 1 Axes>"
            ],
            "image/png": "[encoded data removed]"
          },
          "metadata": {}
        }
      ],
      "source": [
        "# Plotting training and validation accuracy\n",
        "plt.clf()\n",
        "acc_values = history_dict['accuracy']\n",
        "val_acc_values = history_dict['val_accuracy']\n",
        "plt.plot(epochs, acc_values, 'bo', label='Training acc')\n",
        "plt.plot(epochs, val_acc_values, 'b', label='Validation acc')\n",
        "plt.title('Training and Validation accuracy')\n",
        "plt.xlabel('Epochs')\n",
        "plt.ylabel('Accuracy')\n",
        "plt.legend()\n",
        "plt.show()"
      ]
    },
    {
      "cell_type": "markdown",
      "metadata": {
        "id": "Kdy7_yfsuRpN"
      },
      "source": [
        "In this model:\n",
        "\n",
        "<b>Bidirectional LSTM Layers:</b> Bidirectional LSTMs process the input sequence in both forward and backward directions, which can capture more complex patterns in the data.\n",
        "\n",
        "<b>Dropout Layers:</b> Dropout layers are added after each LSTM layer to prevent overfitting. Dropout randomly sets a fraction of input units to 0 at each update during training, which helps prevent overfitting.\n",
        "\n",
        "<b>Dense Layers:</b> Additional dense layers with ReLU activation functions are added to learn high-level features from the output of LSTM layers.\n",
        "\n",
        "<b>Early Stopping:</b> Early stopping is implemented to monitor the validation loss and stop training when the loss stops decreasing, which helps prevent overfitting.\n",
        "\n",
        "<b>Adam Optimizer:</b> Adam optimizer is used with a learning rate of 0.001, which is a popular choice for deep learning tasks."
      ]
    },
    {
      "cell_type": "markdown",
      "metadata": {
        "id": "iCjLDZRQvWD1"
      },
      "source": [
        "# Predicting"
      ]
    },
    {
      "cell_type": "code",
      "source": [
        "from IPython.display import Audio\n",
        "\n",
        "audio_file_path = actual path  # Replace with the actual path to your audio file\n",
        "Audio(audio_file_path)"
      ],
      "metadata": {
        "id": "rDpikJXKIIRh"
      },
      "execution_count": null,
      "outputs": []
    },
    {
      "cell_type": "code",
      "source": [
        "def Predictions(file_path):\n",
        "  pred_feature = []\n",
        "  pred_features = extract_features(file_path)\n",
        "  pred_feature.append(pred_features)\n",
        "  Pred_X = np.array(pred_feature)\n",
        "  X_pred_lstm = Pred_X.reshape(Pred_X.shape[0], 1, Pred_X.shape[1])\n",
        "  pred = model.predict(X_pred_lstm)\n",
        "  predicted_label_index = np.argmax(pred)\n",
        "  predicted_label = label_encoder.classes_[predicted_label_index]\n",
        "\n",
        "  print(\"Predicted Label:\", predicted_label)"
      ],
      "metadata": {
        "id": "RFs7nyu2K74T"
      },
      "execution_count": null,
      "outputs": []
    },
    {
      "cell_type": "code",
      "source": [
        "Predictions('audio/file/path')"
      ],
      "metadata": {
        "id": "dQJ2rp7ZMCou"
      },
      "execution_count": null,
      "outputs": []
    },
    {
      "cell_type": "markdown",
      "source": [
        "# For UI Implementations\n",
        "For UI, we will take input from the user to predict the emotions. So as to use this model, we will save it using the PICKLE library."
      ],
      "metadata": {
        "id": "C4dXnrxFhBKW"
      }
    },
    {
      "cell_type": "code",
      "source": [
        "import pickle\n",
        "\n",
        "# Save the entire model\n",
        "with open('model.pkl', 'wb') as model_file:\n",
        "    pickle.dump(model, model_file)"
      ],
      "metadata": {
        "id": "AIVxPuNgIxu_"
      },
      "execution_count": null,
      "outputs": []
    },
    {
      "cell_type": "code",
      "source": [
        "from google.colab import files\n",
        "\n",
        "# Download the model file to your local machine\n",
        "files.download('model.pkl')"
      ],
      "metadata": {
        "id": "K569IX65Iyks"
      },
      "execution_count": null,
      "outputs": []
    },
    {
      "cell_type": "code",
      "source": [
        "model.save('BiLstm_model.h5')"
      ],
      "metadata": {
        "id": "d4oF_fjZVzFc"
      },
      "execution_count": null,
      "outputs": []
    },
    {
      "cell_type": "code",
      "source": [
        "model.save('BiLstm_model.keras')"
      ],
      "metadata": {
        "id": "VEG5mRCnV4Xo"
      },
      "execution_count": null,
      "outputs": []
    }
  ],
  "metadata": {
    "accelerator": "GPU",
    "colab": {
      "provenance": []
    },
    "kernelspec": {
      "display_name": "Python 3",
      "name": "python3"
    },
    "language_info": {
      "name": "python"
    }
  },
  "nbformat": 4,
  "nbformat_minor": 0
}